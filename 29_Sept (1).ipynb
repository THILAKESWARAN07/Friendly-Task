{
  "cells": [
    {
      "cell_type": "markdown",
      "metadata": {
        "id": "yTEIHfJ18CxZ"
      },
      "source": [
        "2.Friendly Tasks"
      ]
    },
    {
      "cell_type": "code",
      "execution_count": 1,
      "metadata": {
        "id": "YUk043MkykAF"
      },
      "outputs": [
        {
          "name": "stderr",
          "output_type": "stream",
          "text": [
            "Matplotlib is building the font cache; this may take a moment.\n"
          ]
        }
      ],
      "source": [
        "import pandas as pd\n",
        "import matplotlib.pyplot as plt\n",
        "df = pd.read_csv('abc.csv')"
      ]
    },
    {
      "cell_type": "markdown",
      "metadata": {
        "id": "vlQRsC6-zv-C"
      },
      "source": [
        "Part A"
      ]
    },
    {
      "cell_type": "code",
      "execution_count": 2,
      "metadata": {
        "colab": {
          "base_uri": "https://localhost:8080/",
          "height": 276
        },
        "id": "_VPT5hehzyC6",
        "outputId": "b84dffdd-bb4d-41c6-bdc0-b061c3653e8b"
      },
      "outputs": [
        {
          "name": "stdout",
          "output_type": "stream",
          "text": [
            "First 5 rows:\n"
          ]
        },
        {
          "data": {
            "text/html": [
              "<div>\n",
              "<style scoped>\n",
              "    .dataframe tbody tr th:only-of-type {\n",
              "        vertical-align: middle;\n",
              "    }\n",
              "\n",
              "    .dataframe tbody tr th {\n",
              "        vertical-align: top;\n",
              "    }\n",
              "\n",
              "    .dataframe thead th {\n",
              "        text-align: right;\n",
              "    }\n",
              "</style>\n",
              "<table border=\"1\" class=\"dataframe\">\n",
              "  <thead>\n",
              "    <tr style=\"text-align: right;\">\n",
              "      <th></th>\n",
              "      <th>Product</th>\n",
              "      <th>Category</th>\n",
              "      <th>Price Before</th>\n",
              "      <th>Price After</th>\n",
              "      <th>Weight Before</th>\n",
              "      <th>Weight After</th>\n",
              "      <th>Date</th>\n",
              "    </tr>\n",
              "  </thead>\n",
              "  <tbody>\n",
              "    <tr>\n",
              "      <th>0</th>\n",
              "      <td>Cheerioes</td>\n",
              "      <td>Cereals</td>\n",
              "      <td>349.73</td>\n",
              "      <td>321.7516</td>\n",
              "      <td>5.17</td>\n",
              "      <td>5.2217</td>\n",
              "      <td>1/8/2023</td>\n",
              "    </tr>\n",
              "    <tr>\n",
              "      <th>1</th>\n",
              "      <td>Mountain Dew</td>\n",
              "      <td>Beverages</td>\n",
              "      <td>103.17</td>\n",
              "      <td>99.0432</td>\n",
              "      <td>5.48</td>\n",
              "      <td>5.8636</td>\n",
              "      <td>12/9/2022</td>\n",
              "    </tr>\n",
              "    <tr>\n",
              "      <th>2</th>\n",
              "      <td>Whole Milk</td>\n",
              "      <td>Dairy</td>\n",
              "      <td>228.85</td>\n",
              "      <td>199.0995</td>\n",
              "      <td>3.36</td>\n",
              "      <td>3.6288</td>\n",
              "      <td>10/25/2022</td>\n",
              "    </tr>\n",
              "    <tr>\n",
              "      <th>3</th>\n",
              "      <td>Special K</td>\n",
              "      <td>Cereals</td>\n",
              "      <td>429.09</td>\n",
              "      <td>411.9264</td>\n",
              "      <td>4.84</td>\n",
              "      <td>5.1788</td>\n",
              "      <td>9/10/2022</td>\n",
              "    </tr>\n",
              "    <tr>\n",
              "      <th>4</th>\n",
              "      <td>Oreos</td>\n",
              "      <td>Snacks</td>\n",
              "      <td>444.48</td>\n",
              "      <td>382.2528</td>\n",
              "      <td>6.46</td>\n",
              "      <td>7.4290</td>\n",
              "      <td>8/26/2022</td>\n",
              "    </tr>\n",
              "  </tbody>\n",
              "</table>\n",
              "</div>"
            ],
            "text/plain": [
              "        Product   Category  Price Before  Price After  Weight Before  \\\n",
              "0     Cheerioes    Cereals        349.73     321.7516           5.17   \n",
              "1  Mountain Dew  Beverages        103.17      99.0432           5.48   \n",
              "2    Whole Milk      Dairy        228.85     199.0995           3.36   \n",
              "3     Special K    Cereals        429.09     411.9264           4.84   \n",
              "4         Oreos     Snacks        444.48     382.2528           6.46   \n",
              "\n",
              "   Weight After        Date  \n",
              "0        5.2217    1/8/2023  \n",
              "1        5.8636   12/9/2022  \n",
              "2        3.6288  10/25/2022  \n",
              "3        5.1788   9/10/2022  \n",
              "4        7.4290   8/26/2022  "
            ]
          },
          "execution_count": 2,
          "metadata": {},
          "output_type": "execute_result"
        }
      ],
      "source": [
        "# 1. View first 5 rows\n",
        "print(\"First 5 rows:\")\n",
        "df.head()"
      ]
    },
    {
      "cell_type": "code",
      "execution_count": 3,
      "metadata": {
        "colab": {
          "base_uri": "https://localhost:8080/"
        },
        "id": "xFber9tLz4PB",
        "outputId": "fe6fdfaf-1031-407a-b22d-6167cececb9a"
      },
      "outputs": [
        {
          "name": "stdout",
          "output_type": "stream",
          "text": [
            "Shape:\n",
            " (100, 7)\n",
            "\n",
            "Columns\n",
            ": ['Product', 'Category', 'Price Before', 'Price After', 'Weight Before', 'Weight After', 'Date']\n",
            "\n",
            "Data types:\n",
            " Product           object\n",
            "Category          object\n",
            "Price Before     float64\n",
            "Price After      float64\n",
            "Weight Before    float64\n",
            "Weight After     float64\n",
            "Date              object\n",
            "dtype: object\n"
          ]
        }
      ],
      "source": [
        "# 2. Shape, columns, data types\n",
        "print(\"Shape:\\n\", df.shape)\n",
        "print(\"\\nColumns\\n:\", df.columns.tolist())\n",
        "print(\"\\nData types:\\n\", df.dtypes)"
      ]
    },
    {
      "cell_type": "code",
      "execution_count": 4,
      "metadata": {
        "colab": {
          "base_uri": "https://localhost:8080/"
        },
        "id": "QdaOhVLpz7cl",
        "outputId": "58de3072-7d0e-4f0a-fb8e-ea0aad95c12d"
      },
      "outputs": [
        {
          "name": "stdout",
          "output_type": "stream",
          "text": [
            "Missing values:\n",
            " Product          0\n",
            "Category         0\n",
            "Price Before     0\n",
            "Price After      0\n",
            "Weight Before    0\n",
            "Weight After     0\n",
            "Date             0\n",
            "dtype: int64\n",
            "\n",
            "Duplicates: 0\n"
          ]
        }
      ],
      "source": [
        "# 3. Missing values & duplicates\n",
        "print(\"Missing values:\\n\", df.isnull().sum())\n",
        "print(\"\\nDuplicates:\", df.duplicated().sum())"
      ]
    },
    {
      "cell_type": "code",
      "execution_count": 5,
      "metadata": {
        "colab": {
          "base_uri": "https://localhost:8080/"
        },
        "id": "WkRE_QZEz-La",
        "outputId": "0fe0cee6-fcbe-4083-ab5f-1675a50080f4"
      },
      "outputs": [
        {
          "name": "stdout",
          "output_type": "stream",
          "text": [
            "Summary stats:\n",
            "        Price Before  Price After  Weight Before  Weight After\n",
            "count    100.000000   100.000000     100.000000    100.000000\n",
            "mean     270.460800   243.526199       4.405000      4.570820\n",
            "std      138.376012   124.029937       1.350802      1.414995\n",
            "min       50.040000    42.891500       2.040000      2.070400\n",
            "25%      149.642500   132.454050       3.347500      3.495725\n",
            "50%      272.610000   248.351550       4.340000      4.499550\n",
            "75%      396.617500   354.867800       5.482500      5.739025\n",
            "max      499.080000   446.183000       6.980000      7.429000\n"
          ]
        }
      ],
      "source": [
        "# 4. Summary stats for numerical columns\n",
        "print(\"Summary stats:\\n\", df.describe())"
      ]
    },
    {
      "cell_type": "code",
      "execution_count": 6,
      "metadata": {
        "colab": {
          "base_uri": "https://localhost:8080/"
        },
        "id": "C91SKB1u16mI",
        "outputId": "ca7f9156-bf62-49dc-a492-5c6475277504"
      },
      "outputs": [
        {
          "name": "stdout",
          "output_type": "stream",
          "text": [
            "['Product', 'Category', 'Price Before', 'Price After', 'Weight Before', 'Weight After', 'Date']\n"
          ]
        }
      ],
      "source": [
        "print(df.columns.tolist())\n"
      ]
    },
    {
      "cell_type": "markdown",
      "metadata": {
        "id": "XNIegHgr0niR"
      },
      "source": [
        "Part B"
      ]
    },
    {
      "cell_type": "code",
      "execution_count": 7,
      "metadata": {
        "colab": {
          "base_uri": "https://localhost:8080/",
          "height": 472
        },
        "id": "kUAZQsgB0qKf",
        "outputId": "36a75e99-93a1-4887-ef22-ea932d2df0cc"
      },
      "outputs": [
        {
          "data": {
            "image/png": "[encoded data removed]",
            "text/plain": [
              "<Figure size 640x480 with 1 Axes>"
            ]
          },
          "metadata": {},
          "output_type": "display_data"
        }
      ],
      "source": [
        "# Histogram: Weight Before & Weight After\n",
        "df['Weight Before'].hist(alpha=0.5, label='Weight Before')\n",
        "df['Weight After'].hist(alpha=0.5, label='Weight After')\n",
        "plt.legend()\n",
        "plt.title('Weights Before & After')\n",
        "plt.xlabel('Weight')\n",
        "plt.ylabel('Count')\n",
        "plt.show()"
      ]
    },
    {
      "cell_type": "code",
      "execution_count": 8,
      "metadata": {
        "colab": {
          "base_uri": "https://localhost:8080/",
          "height": 472
        },
        "id": "3avhepAt0yWq",
        "outputId": "5fedb2b2-33f9-49cd-d610-83b304a0a2ac"
      },
      "outputs": [
        {
          "data": {
            "image/png": "[encoded data removed]",
            "text/plain": [
              "<Figure size 640x480 with 1 Axes>"
            ]
          },
          "metadata": {},
          "output_type": "display_data"
        }
      ],
      "source": [
        "# Histogram: Price Before & Price After\n",
        "df['Price Before'].hist(alpha=0.5, label='Price Before')\n",
        "df['Price After'].hist(alpha=0.5, label='Price After')\n",
        "plt.legend()\n",
        "plt.title('Prices Before & After')\n",
        "plt.xlabel('Price')\n",
        "plt.ylabel('Count')\n",
        "plt.show()"
      ]
    },
    {
      "cell_type": "code",
      "execution_count": 9,
      "metadata": {
        "colab": {
          "base_uri": "https://localhost:8080/",
          "height": 472
        },
        "id": "ioQnhIDG0yHg",
        "outputId": "777c0649-1379-444e-f13d-fba6d619adc3"
      },
      "outputs": [
        {
          "data": {
            "image/png": "[encoded data removed]",
            "text/plain": [
              "<Figure size 640x480 with 1 Axes>"
            ]
          },
          "metadata": {},
          "output_type": "display_data"
        }
      ],
      "source": [
        "# Scatter: Weight Change vs. Price Change\n",
        "plt.scatter(df['Weight After'] - df['Weight Before'], df['Price After'] - df['Price Before'])\n",
        "plt.title('Weight Change vs Price Change')\n",
        "plt.xlabel('Weight Change')\n",
        "plt.ylabel('Price Change')\n",
        "plt.show()"
      ]
    },
    {
      "cell_type": "code",
      "execution_count": 10,
      "metadata": {
        "colab": {
          "base_uri": "https://localhost:8080/"
        },
        "id": "Drp_bBLO0x5G",
        "outputId": "2d831eb4-eac6-45aa-be06-47ea31864ce2"
      },
      "outputs": [
        {
          "name": "stdout",
          "output_type": "stream",
          "text": [
            "           Product  Weight Drop\n",
            "32           Fanta      -0.0235\n",
            "98           Chips      -0.0271\n",
            "38  Cheddar Cheese      -0.0304\n"
          ]
        }
      ],
      "source": [
        "# Top 3 products with biggest weight drop\n",
        "df['Weight Drop'] = df['Weight Before'] - df['Weight After']\n",
        "print(df.nlargest(3, 'Weight Drop')[['Product', 'Weight Drop']])"
      ]
    },
    {
      "cell_type": "code",
      "execution_count": 11,
      "metadata": {
        "colab": {
          "base_uri": "https://localhost:8080/"
        },
        "id": "L77D5gsY0xqW",
        "outputId": "feaec690-d78a-4cac-ca0c-43480ac96124"
      },
      "outputs": [
        {
          "name": "stdout",
          "output_type": "stream",
          "text": [
            "          Product  Price Increase\n",
            "99  Rice Krispies         -3.7560\n",
            "74    Corn Flakes         -4.0440\n",
            "1    Mountain Dew         -4.1268\n"
          ]
        }
      ],
      "source": [
        "# Top 3 products with biggest price increase\n",
        "df['Price Increase'] = df['Price After'] - df['Price Before']\n",
        "print(df.nlargest(3, 'Price Increase')[['Product', 'Price Increase']])\n"
      ]
    },
    {
      "cell_type": "markdown",
      "metadata": {
        "id": "wbEm4tZK3Ivf"
      },
      "source": [
        "Part c"
      ]
    },
    {
      "cell_type": "code",
      "execution_count": 12,
      "metadata": {
        "colab": {
          "base_uri": "https://localhost:8080/"
        },
        "id": "e0Z1eJk03LA-",
        "outputId": "eab738b0-5a1a-4e73-91f1-b3e502c01637"
      },
      "outputs": [
        {
          "name": "stdout",
          "output_type": "stream",
          "text": [
            "Weight change mean: 0.16581999999999994\n",
            "median: 0.15225\n",
            "std: 0.12179666612345297\n"
          ]
        }
      ],
      "source": [
        "# Mean, median, std of weight change\n",
        "df['Weight Change'] = df['Weight After'] - df['Weight Before']\n",
        "print(\"Weight change mean:\", df['Weight Change'].mean())\n",
        "print(\"median:\", df['Weight Change'].median())\n",
        "print(\"std:\", df['Weight Change'].std())"
      ]
    },
    {
      "cell_type": "code",
      "execution_count": 13,
      "metadata": {
        "colab": {
          "base_uri": "https://localhost:8080/"
        },
        "id": "ZmsoOwCc3VdZ",
        "outputId": "8468c70c-cf06-4634-f28b-6b410cf46618"
      },
      "outputs": [
        {
          "name": "stdout",
          "output_type": "stream",
          "text": [
            "Correlation (weight vs price % change): -0.014969262611405318\n"
          ]
        }
      ],
      "source": [
        "# Correlation between weight and price % change\n",
        "df['Weight Change %'] = ((df['Weight After'] - df['Weight Before']) / df['Weight Before']) * 100\n",
        "df['Price Change %'] = ((df['Price After'] - df['Price Before']) / df['Price Before']) * 100\n",
        "\n",
        "print(\"Correlation (weight vs price % change):\", df['Weight Change %'].corr(df['Price Change %']))"
      ]
    },
    {
      "cell_type": "code",
      "execution_count": 14,
      "metadata": {
        "colab": {
          "base_uri": "https://localhost:8080/"
        },
        "id": "caEe1q7x3-Nl",
        "outputId": "f3bb86df-2871-4ed9-ea2e-e4e8e028a96b"
      },
      "outputs": [
        {
          "name": "stdout",
          "output_type": "stream",
          "text": [
            "Probability of shrinkflation event: 0.0\n"
          ]
        }
      ],
      "source": [
        "# Probability of shrinkflation event\n",
        "shrinkflation = df[(df['Weight After'] < df['Weight Before']) & (df['Price After'] >= df['Price Before'])]\n",
        "prob_shrink = len(shrinkflation) / len(df)\n",
        "print(\"Probability of shrinkflation event:\", prob_shrink)"
      ]
    },
    {
      "cell_type": "markdown",
      "metadata": {
        "id": "F_u8sQW_4udA"
      },
      "source": [
        "Part D"
      ]
    },
    {
      "cell_type": "code",
      "execution_count": 15,
      "metadata": {
        "colab": {
          "base_uri": "https://localhost:8080/",
          "height": 513
        },
        "id": "IZQZ4S9a4xIZ",
        "outputId": "536e5c3b-6233-4d1f-ce7d-4f517d5fc6f1"
      },
      "outputs": [
        {
          "data": {
            "text/html": [
              "<div>\n",
              "<style scoped>\n",
              "    .dataframe tbody tr th:only-of-type {\n",
              "        vertical-align: middle;\n",
              "    }\n",
              "\n",
              "    .dataframe tbody tr th {\n",
              "        vertical-align: top;\n",
              "    }\n",
              "\n",
              "    .dataframe thead th {\n",
              "        text-align: right;\n",
              "    }\n",
              "</style>\n",
              "<table border=\"1\" class=\"dataframe\">\n",
              "  <thead>\n",
              "    <tr style=\"text-align: right;\">\n",
              "      <th></th>\n",
              "      <th>Product</th>\n",
              "      <th>Category</th>\n",
              "      <th>Size_Change_Percentage</th>\n",
              "      <th>Price_Change_Percentage</th>\n",
              "      <th>Shrinkflation_Flag</th>\n",
              "    </tr>\n",
              "  </thead>\n",
              "  <tbody>\n",
              "    <tr>\n",
              "      <th>0</th>\n",
              "      <td>Cheerioes</td>\n",
              "      <td>Cereals</td>\n",
              "      <td>1.0</td>\n",
              "      <td>-8.0</td>\n",
              "      <td>False</td>\n",
              "    </tr>\n",
              "    <tr>\n",
              "      <th>1</th>\n",
              "      <td>Mountain Dew</td>\n",
              "      <td>Beverages</td>\n",
              "      <td>7.0</td>\n",
              "      <td>-4.0</td>\n",
              "      <td>False</td>\n",
              "    </tr>\n",
              "    <tr>\n",
              "      <th>2</th>\n",
              "      <td>Whole Milk</td>\n",
              "      <td>Dairy</td>\n",
              "      <td>8.0</td>\n",
              "      <td>-13.0</td>\n",
              "      <td>False</td>\n",
              "    </tr>\n",
              "    <tr>\n",
              "      <th>3</th>\n",
              "      <td>Special K</td>\n",
              "      <td>Cereals</td>\n",
              "      <td>7.0</td>\n",
              "      <td>-4.0</td>\n",
              "      <td>False</td>\n",
              "    </tr>\n",
              "    <tr>\n",
              "      <th>4</th>\n",
              "      <td>Oreos</td>\n",
              "      <td>Snacks</td>\n",
              "      <td>15.0</td>\n",
              "      <td>-14.0</td>\n",
              "      <td>False</td>\n",
              "    </tr>\n",
              "    <tr>\n",
              "      <th>...</th>\n",
              "      <td>...</td>\n",
              "      <td>...</td>\n",
              "      <td>...</td>\n",
              "      <td>...</td>\n",
              "      <td>...</td>\n",
              "    </tr>\n",
              "    <tr>\n",
              "      <th>95</th>\n",
              "      <td>Pretzels</td>\n",
              "      <td>Snacks</td>\n",
              "      <td>4.0</td>\n",
              "      <td>-6.0</td>\n",
              "      <td>False</td>\n",
              "    </tr>\n",
              "    <tr>\n",
              "      <th>96</th>\n",
              "      <td>Cheddar Cheese</td>\n",
              "      <td>Dairy</td>\n",
              "      <td>3.0</td>\n",
              "      <td>-12.0</td>\n",
              "      <td>False</td>\n",
              "    </tr>\n",
              "    <tr>\n",
              "      <th>97</th>\n",
              "      <td>Cream</td>\n",
              "      <td>Dairy</td>\n",
              "      <td>1.0</td>\n",
              "      <td>-12.0</td>\n",
              "      <td>False</td>\n",
              "    </tr>\n",
              "    <tr>\n",
              "      <th>98</th>\n",
              "      <td>Chips</td>\n",
              "      <td>Snacks</td>\n",
              "      <td>1.0</td>\n",
              "      <td>-6.0</td>\n",
              "      <td>False</td>\n",
              "    </tr>\n",
              "    <tr>\n",
              "      <th>99</th>\n",
              "      <td>Rice Krispies</td>\n",
              "      <td>Cereals</td>\n",
              "      <td>3.0</td>\n",
              "      <td>-6.0</td>\n",
              "      <td>False</td>\n",
              "    </tr>\n",
              "  </tbody>\n",
              "</table>\n",
              "<p>100 rows × 5 columns</p>\n",
              "</div>"
            ],
            "text/plain": [
              "           Product   Category  Size_Change_Percentage  \\\n",
              "0        Cheerioes    Cereals                     1.0   \n",
              "1     Mountain Dew  Beverages                     7.0   \n",
              "2       Whole Milk      Dairy                     8.0   \n",
              "3        Special K    Cereals                     7.0   \n",
              "4            Oreos     Snacks                    15.0   \n",
              "..             ...        ...                     ...   \n",
              "95        Pretzels     Snacks                     4.0   \n",
              "96  Cheddar Cheese      Dairy                     3.0   \n",
              "97           Cream      Dairy                     1.0   \n",
              "98           Chips     Snacks                     1.0   \n",
              "99   Rice Krispies    Cereals                     3.0   \n",
              "\n",
              "    Price_Change_Percentage  Shrinkflation_Flag  \n",
              "0                      -8.0               False  \n",
              "1                      -4.0               False  \n",
              "2                     -13.0               False  \n",
              "3                      -4.0               False  \n",
              "4                     -14.0               False  \n",
              "..                      ...                 ...  \n",
              "95                     -6.0               False  \n",
              "96                    -12.0               False  \n",
              "97                    -12.0               False  \n",
              "98                     -6.0               False  \n",
              "99                     -6.0               False  \n",
              "\n",
              "[100 rows x 5 columns]"
            ]
          },
          "execution_count": 15,
          "metadata": {},
          "output_type": "execute_result"
        }
      ],
      "source": [
        "# 1. Size_Change_Percentage\n",
        "df['Size_Change_Percentage'] = ((df['Weight After'] - df['Weight Before']) / df['Weight Before'])*100\n",
        "\n",
        "# 2. Price_Change_Percentage\n",
        "df['Price_Change_Percentage'] = ((df['Price After'] - df['Price Before']) / df['Price Before'])*100\n",
        "\n",
        "# 3. Shrinkflation_Flag\n",
        "df['Shrinkflation_Flag'] = ((df['Weight After'] < df['Weight Before']) & (df['Price After'] >= df['Price Before']))\n",
        "\n",
        "# First, make sure your percentage columns are rounded to whole numbers\n",
        "df['Size_Change_Percentage'] = df['Size_Change_Percentage'].round(0)\n",
        "df['Price_Change_Percentage'] = df['Price_Change_Percentage'].round(0)\n",
        "\n",
        "# Print the rounded results for each product\n",
        "df[['Product', 'Category', 'Size_Change_Percentage', 'Price_Change_Percentage', 'Shrinkflation_Flag']]\n",
        "\n",
        "\n"
      ]
    },
    {
      "cell_type": "markdown",
      "metadata": {
        "id": "1KtFopgD7UvM"
      },
      "source": [
        "Part E"
      ]
    },
    {
      "cell_type": "code",
      "execution_count": 16,
      "metadata": {
        "colab": {
          "base_uri": "https://localhost:8080/"
        },
        "id": "buNpdbeM7VUy",
        "outputId": "3d2fd94c-3c34-48f0-d277-7904239166d9"
      },
      "outputs": [
        {
          "name": "stdout",
          "output_type": "stream",
          "text": [
            "       Product Category  Size_Change_Percentage  Price_Change_Percentage  \\\n",
            "9       Butter    Dairy                     1.0                    -11.0   \n",
            "15      Butter    Dairy                     4.0                     -9.0   \n",
            "54      Butter    Dairy                     5.0                    -12.0   \n",
            "58      Butter    Dairy                     5.0                    -13.0   \n",
            "20      Butter    Dairy                     2.0                     -9.0   \n",
            "..         ...      ...                     ...                      ...   \n",
            "2   Whole Milk    Dairy                     8.0                    -13.0   \n",
            "79      Yogurt    Dairy                     5.0                     -7.0   \n",
            "13      Yogurt    Dairy                     1.0                    -12.0   \n",
            "66      Yogurt    Dairy                     3.0                    -12.0   \n",
            "10      Yogurt    Dairy                     3.0                    -15.0   \n",
            "\n",
            "    Shrinkflation_Flag  \n",
            "9                False  \n",
            "15               False  \n",
            "54               False  \n",
            "58               False  \n",
            "20               False  \n",
            "..                 ...  \n",
            "2                False  \n",
            "79               False  \n",
            "13               False  \n",
            "66               False  \n",
            "10               False  \n",
            "\n",
            "[100 rows x 5 columns]\n"
          ]
        }
      ],
      "source": [
        "\n",
        "result = df[['Product', 'Category', 'Size_Change_Percentage', 'Price_Change_Percentage', 'Shrinkflation_Flag']]\n",
        "\n",
        "# Sort the result by product name\n",
        "result = result.sort_values('Product')\n",
        "print(result)\n"
      ]
    }
  ],
  "metadata": {
    "colab": {
      "provenance": []
    },
    "kernelspec": {
      "display_name": "venv",
      "language": "python",
      "name": "python3"
    },
    "language_info": {
      "codemirror_mode": {
        "name": "ipython",
        "version": 3
      },
      "file_extension": ".py",
      "mimetype": "text/x-python",
      "name": "python",
      "nbconvert_exporter": "python",
      "pygments_lexer": "ipython3",
      "version": "3.10.0"
    }
  },
  "nbformat": 4,
  "nbformat_minor": 0
}
